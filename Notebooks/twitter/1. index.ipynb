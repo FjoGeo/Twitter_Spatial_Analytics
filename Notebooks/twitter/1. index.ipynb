{
 "cells": [
  {
   "cell_type": "markdown",
   "id": "3ed34875-82ef-4049-850a-4316222880da",
   "metadata": {},
   "source": [
    "### Import"
   ]
  },
  {
   "cell_type": "code",
   "execution_count": 1,
   "id": "886d02f0-9648-43db-a54b-543f344f9105",
   "metadata": {},
   "outputs": [],
   "source": [
    "import warnings\n",
    "\n",
    "warnings.filterwarnings('ignore')\n",
    "import dash_html_components as html\n",
    "import dash_bootstrap_components as dbc\n",
    "from dash.dependencies import Output, Input\n",
    "from app import app\n",
    "\n",
    "# CLayouts der anderen Dateien\n",
    "from live_data import live_layout\n",
    "from kaggle_1 import test_layout\n",
    "from kaggle_2 import layout_k\n",
    "from additional_data import add_data_layout\n",
    "from twt_upload import upload_layout\n",
    "from nltk_data import nltk_layout"
   ]
  },
  {
   "cell_type": "markdown",
   "id": "31eeb66b-7598-4a58-a01a-8e733dcf3ce2",
   "metadata": {},
   "source": [
    "# Import Tabs "
   ]
  },
  {
   "cell_type": "code",
   "execution_count": 2,
   "id": "6e89f59a-5e45-4440-baea-65f8f950d187",
   "metadata": {},
   "outputs": [],
   "source": [
    "# app tabs\n",
    "# dash-bootstrap teilweise für Design\n",
    "# https://dash-bootstrap-components.opensource.faculty.ai/docs/components/tabs/\n",
    "app_tabs = html.Div(\n",
    "    [\n",
    "        dbc.Tabs(\n",
    "            [\n",
    "                dbc.Tab(label=\"Suche\", tab_id=\"live_data\", labelClassName=\"text-success font-weight-bold\",\n",
    "                        activeLabelClassName=\"text-danger\"),\n",
    "                dbc.Tab(label=\"Tabelle und Download\", tab_id=\"tab_data\", labelClassName=\"text-success font-weight-bold\",\n",
    "                        activeLabelClassName=\"text-danger\"),\n",
    "                dbc.Tab(label=\"NLTK\", tab_id=\"nltk_tab\", labelClassName=\"text-success font-weight-bold\",\n",
    "                        activeLabelClassName=\"text-danger\"),\n",
    "                dbc.Tab(label=\"Upload\", tab_id=\"tab_upload\", labelClassName=\"text-success font-weight-bold\",\n",
    "                        activeLabelClassName=\"text-danger\"),\n",
    "                dbc.Tab(label=\"Disaster aus Kaggle\", tab_id=\"kaggle-1\", labelClassName=\"text-success font-weight-bold\",\n",
    "                        activeLabelClassName=\"text-danger\"),\n",
    "                dbc.Tab(label=\"Weitere Disaster\", tab_id=\"kaggle-2\", labelClassName=\"text-success font-weight-bold\",\n",
    "                        activeLabelClassName=\"text-danger\"),\n",
    "            ],\n",
    "            id=\"tabs\",\n",
    "            active_tab=\"live_data\",  # live_data\n",
    "        ),\n",
    "    ], className=\"mt-3\"\n",
    ")"
   ]
  },
  {
   "cell_type": "markdown",
   "id": "08648acc-1426-4243-a4e8-cf3be631941a",
   "metadata": {},
   "source": [
    "### Layout "
   ]
  },
  {
   "cell_type": "code",
   "execution_count": 3,
   "id": "76a9155e-6422-42fc-b07f-5c3e6fcda59e",
   "metadata": {},
   "outputs": [],
   "source": [
    "# Layout besteht aus Überschrift und den Tabs\n",
    "# der Rest wird aus weiteren Dateien geladen\n",
    "app.layout = dbc.Container([\n",
    "    dbc.Row(\n",
    "        dbc.Col(html.H1(\"Twitter app\", style={\"textAlign\": \"center\"}), width=12)),  # überschrift\n",
    "    html.Hr(),  # horizontal line\n",
    "    dbc.Row(\n",
    "        dbc.Col(app_tabs, width=12), className=\"mb-3\"),  # tabs von oben\n",
    "    html.Div(id='cont', children=[])  # 'content von den anderen files\n",
    "])"
   ]
  },
  {
   "cell_type": "markdown",
   "id": "a9ff55f9-b2b5-48b3-8f13-4c24ca114b19",
   "metadata": {},
   "source": [
    "### Callback "
   ]
  },
  {
   "cell_type": "code",
   "execution_count": 4,
   "id": "1fb0a5cd-4196-4c13-ab57-945dd8dcbcc8",
   "metadata": {},
   "outputs": [],
   "source": [
    "# callback wechselt zwischen den einzelnen Files\n",
    "# Layouts der anderen werden nur bei Aufruf geladen\n",
    "@app.callback(\n",
    "    Output(component_id=\"cont\", component_property=\"children\"),\n",
    "    [Input(component_id=\"tabs\", component_property=\"active_tab\")]\n",
    ")\n",
    "def switch_tab(tab_chosen):\n",
    "    if tab_chosen == \"live_data\":\n",
    "        return live_layout\n",
    "    elif tab_chosen == \"tab_data\":\n",
    "        return add_data_layout\n",
    "    elif tab_chosen == \"tab_upload\":\n",
    "        return upload_layout\n",
    "    elif tab_chosen == \"kaggle-1\":\n",
    "        return test_layout\n",
    "    elif tab_chosen == \"kaggle-2\":\n",
    "        return layout_k\n",
    "    elif tab_chosen == \"nltk_tab\":\n",
    "        return nltk_layout\n",
    "    return html.P(\"Hier kommt noch was rein...\")"
   ]
  },
  {
   "cell_type": "markdown",
   "id": "dcd47968-17f6-44c3-870c-0dca18234723",
   "metadata": {},
   "source": [
    "### Run server "
   ]
  },
  {
   "cell_type": "code",
   "execution_count": 5,
   "id": "02cf2e45-5319-4093-9562-91f38ae63de0",
   "metadata": {
    "tags": []
   },
   "outputs": [
    {
     "name": "stdout",
     "output_type": "stream",
     "text": [
      "Dash is running on http://127.0.0.1:8070/\n",
      "\n",
      " * Serving Flask app 'app' (lazy loading)\n",
      " * Environment: production\n",
      "\u001b[31m   WARNING: This is a development server. Do not use it in a production deployment.\u001b[0m\n",
      "\u001b[2m   Use a production WSGI server instead.\u001b[0m\n",
      " * Debug mode: off\n"
     ]
    },
    {
     "name": "stderr",
     "output_type": "stream",
     "text": [
      " * Running on http://127.0.0.1:8070/ (Press CTRL+C to quit)\n",
      "127.0.0.1 - - [31/Jan/2022 08:59:05] \"GET / HTTP/1.1\" 200 -\n",
      "127.0.0.1 - - [31/Jan/2022 08:59:05] \"GET /_dash-component-suites/dash/deps/react-dom@16.v2_1_0m1643558255.14.0.min.js HTTP/1.1\" 200 -\n",
      "127.0.0.1 - - [31/Jan/2022 08:59:05] \"GET /_dash-component-suites/dash/deps/prop-types@15.v2_1_0m1643558255.7.2.min.js HTTP/1.1\" 200 -\n",
      "127.0.0.1 - - [31/Jan/2022 08:59:05] \"GET /_dash-component-suites/dash/deps/react@16.v2_1_0m1643558255.14.0.min.js HTTP/1.1\" 200 -\n",
      "127.0.0.1 - - [31/Jan/2022 08:59:05] \"GET /_dash-component-suites/dash/deps/polyfill@7.v2_1_0m1643558255.12.1.min.js HTTP/1.1\" 200 -\n",
      "127.0.0.1 - - [31/Jan/2022 08:59:05] \"GET /_dash-component-suites/dash_extensions/dash_extensions.v0_0_67m1643558931.min.js HTTP/1.1\" 200 -\n",
      "127.0.0.1 - - [31/Jan/2022 08:59:05] \"GET /_dash-component-suites/dash/dcc/dash_core_components-shared.v2_1_0m1643558255.js HTTP/1.1\" 200 -\n",
      "127.0.0.1 - - [31/Jan/2022 08:59:05] \"GET /_dash-component-suites/dash_bootstrap_components/_components/dash_bootstrap_components.v1_0_2m1643558345.min.js HTTP/1.1\" 200 -\n",
      "127.0.0.1 - - [31/Jan/2022 08:59:05] \"GET /_dash-component-suites/dash/dcc/dash_core_components.v2_1_0m1643558255.js HTTP/1.1\" 200 -\n",
      "127.0.0.1 - - [31/Jan/2022 08:59:05] \"GET /_dash-component-suites/dash/dash-renderer/build/dash_renderer.v2_1_0m1643558255.min.js HTTP/1.1\" 200 -\n",
      "127.0.0.1 - - [31/Jan/2022 08:59:05] \"GET /_dash-component-suites/dash/dash_table/bundle.v5_1_0m1643558255.js HTTP/1.1\" 200 -\n",
      "127.0.0.1 - - [31/Jan/2022 08:59:05] \"GET /_dash-component-suites/dash/html/dash_html_components.v2_0_1m1643558255.min.js HTTP/1.1\" 200 -\n",
      "127.0.0.1 - - [31/Jan/2022 08:59:05] \"GET /_dash-layout HTTP/1.1\" 200 -\n",
      "127.0.0.1 - - [31/Jan/2022 08:59:05] \"GET /_dash-dependencies HTTP/1.1\" 200 -\n",
      "127.0.0.1 - - [31/Jan/2022 08:59:05] \"POST /_dash-update-component HTTP/1.1\" 200 -\n",
      "127.0.0.1 - - [31/Jan/2022 08:59:05] \"GET /_dash-component-suites/dash/dcc/async-dropdown.js HTTP/1.1\" 200 -\n",
      "127.0.0.1 - - [31/Jan/2022 08:59:05] \"GET /_dash-component-suites/dash/dcc/async-graph.js HTTP/1.1\" 200 -\n",
      "127.0.0.1 - - [31/Jan/2022 08:59:05] \"GET /_dash-component-suites/dash/dcc/async-plotlyjs.js HTTP/1.1\" 200 -\n",
      "127.0.0.1 - - [31/Jan/2022 08:59:06] \"GET /_favicon.ico?v=2.1.0 HTTP/1.1\" 200 -\n",
      "127.0.0.1 - - [31/Jan/2022 08:59:10] \"POST /_dash-update-component HTTP/1.1\" 200 -\n",
      "127.0.0.1 - - [31/Jan/2022 09:16:14] \"POST /_dash-update-component HTTP/1.1\" 200 -\n",
      "127.0.0.1 - - [31/Jan/2022 09:16:14] \"GET /_dash-component-suites/dash/dash_table/async-highlight.js HTTP/1.1\" 200 -\n",
      "127.0.0.1 - - [31/Jan/2022 09:16:14] \"GET /_dash-component-suites/dash/dash_table/async-table.js HTTP/1.1\" 200 -\n",
      "127.0.0.1 - - [31/Jan/2022 09:16:14] \"POST /_dash-update-component HTTP/1.1\" 200 -\n",
      "127.0.0.1 - - [31/Jan/2022 09:16:14] \"POST /_dash-update-component HTTP/1.1\" 200 -\n",
      "127.0.0.1 - - [31/Jan/2022 09:16:14] \"POST /_dash-update-component HTTP/1.1\" 200 -\n",
      "127.0.0.1 - - [31/Jan/2022 09:16:14] \"POST /_dash-update-component HTTP/1.1\" 200 -\n",
      "127.0.0.1 - - [31/Jan/2022 09:29:11] \"POST /_dash-update-component HTTP/1.1\" 200 -\n",
      "127.0.0.1 - - [31/Jan/2022 09:29:11] \"POST /_dash-update-component HTTP/1.1\" 200 -\n",
      "127.0.0.1 - - [31/Jan/2022 09:29:11] \"POST /_dash-update-component HTTP/1.1\" 200 -\n",
      "127.0.0.1 - - [31/Jan/2022 09:42:30] \"POST /_dash-update-component HTTP/1.1\" 200 -\n",
      "127.0.0.1 - - [31/Jan/2022 09:42:30] \"POST /_dash-update-component HTTP/1.1\" 200 -\n",
      "127.0.0.1 - - [31/Jan/2022 09:42:30] \"GET /_dash-component-suites/dash/dcc/async-upload.js HTTP/1.1\" 200 -\n",
      "127.0.0.1 - - [31/Jan/2022 10:04:55] \"POST /_dash-update-component HTTP/1.1\" 200 -\n",
      "127.0.0.1 - - [31/Jan/2022 10:04:55] \"GET /_dash-component-suites/dash/dcc/async-datepicker.js HTTP/1.1\" 200 -\n",
      "127.0.0.1 - - [31/Jan/2022 10:04:55] \"POST /_dash-update-component HTTP/1.1\" 200 -\n",
      "127.0.0.1 - - [31/Jan/2022 10:04:56] \"POST /_dash-update-component HTTP/1.1\" 200 -\n",
      "127.0.0.1 - - [31/Jan/2022 10:04:57] \"POST /_dash-update-component HTTP/1.1\" 200 -\n",
      "127.0.0.1 - - [31/Jan/2022 10:11:45] \"POST /_dash-update-component HTTP/1.1\" 200 -\n",
      "127.0.0.1 - - [31/Jan/2022 10:11:45] \"POST /_dash-update-component HTTP/1.1\" 200 -\n",
      "127.0.0.1 - - [31/Jan/2022 10:11:45] \"POST /_dash-update-component HTTP/1.1\" 200 -\n",
      "127.0.0.1 - - [31/Jan/2022 10:11:45] \"POST /_dash-update-component HTTP/1.1\" 200 -\n",
      "127.0.0.1 - - [31/Jan/2022 10:11:50] \"POST /_dash-update-component HTTP/1.1\" 200 -\n",
      "127.0.0.1 - - [31/Jan/2022 10:11:50] \"POST /_dash-update-component HTTP/1.1\" 200 -\n",
      "127.0.0.1 - - [31/Jan/2022 10:11:50] \"POST /_dash-update-component HTTP/1.1\" 200 -\n",
      "127.0.0.1 - - [31/Jan/2022 10:11:51] \"POST /_dash-update-component HTTP/1.1\" 200 -\n",
      "127.0.0.1 - - [31/Jan/2022 10:13:39] \"POST /_dash-update-component HTTP/1.1\" 200 -\n",
      "127.0.0.1 - - [31/Jan/2022 10:13:39] \"POST /_dash-update-component HTTP/1.1\" 200 -\n",
      "127.0.0.1 - - [31/Jan/2022 10:13:39] \"POST /_dash-update-component HTTP/1.1\" 200 -\n",
      "127.0.0.1 - - [31/Jan/2022 10:13:39] \"POST /_dash-update-component HTTP/1.1\" 200 -\n",
      "127.0.0.1 - - [31/Jan/2022 10:22:20] \"POST /_dash-update-component HTTP/1.1\" 200 -\n"
     ]
    },
    {
     "name": "stdout",
     "output_type": "stream",
     "text": [
      "Exception on /_dash-update-component [POST]\n",
      "Traceback (most recent call last):\n",
      "  File \"c:\\users\\egor\\desktop\\gis_prog\\venv\\lib\\site-packages\\flask\\app.py\", line 2073, in wsgi_app\n",
      "    response = self.full_dispatch_request()\n",
      "  File \"c:\\users\\egor\\desktop\\gis_prog\\venv\\lib\\site-packages\\flask\\app.py\", line 1518, in full_dispatch_request\n",
      "    rv = self.handle_user_exception(e)\n",
      "  File \"c:\\users\\egor\\desktop\\gis_prog\\venv\\lib\\site-packages\\flask\\app.py\", line 1516, in full_dispatch_request\n",
      "    rv = self.dispatch_request()\n",
      "  File \"c:\\users\\egor\\desktop\\gis_prog\\venv\\lib\\site-packages\\flask\\app.py\", line 1502, in dispatch_request\n",
      "    return self.ensure_sync(self.view_functions[rule.endpoint])(**req.view_args)\n",
      "  File \"c:\\users\\egor\\desktop\\gis_prog\\venv\\lib\\site-packages\\dash\\dash.py\", line 1344, in dispatch\n",
      "    response.set_data(func(*args, outputs_list=outputs_list))\n",
      "  File \"c:\\users\\egor\\desktop\\gis_prog\\venv\\lib\\site-packages\\dash\\_callback.py\", line 151, in add_context\n",
      "    output_value = func(*func_args, **func_kwargs)  # %% callback invoked %%\n",
      "  File \"C:\\Users\\Egor\\Desktop\\GIS_Prog\\TwitterAndDisaster\\notebook\\twitter streaming\\kaggle_2.py\", line 71, in set_cities\n",
      "    return [{'label': c, 'value': c} for c in sorted(dff.city.unique())]\n",
      "TypeError: '<' not supported between instances of 'bytes' and 'str'\n"
     ]
    },
    {
     "name": "stderr",
     "output_type": "stream",
     "text": [
      "127.0.0.1 - - [31/Jan/2022 10:22:20] \"POST /_dash-update-component HTTP/1.1\" 500 -\n",
      "127.0.0.1 - - [31/Jan/2022 10:22:26] \"POST /_dash-update-component HTTP/1.1\" 200 -\n",
      "127.0.0.1 - - [31/Jan/2022 10:22:26] \"POST /_dash-update-component HTTP/1.1\" 200 -\n",
      "127.0.0.1 - - [31/Jan/2022 10:22:26] \"POST /_dash-update-component HTTP/1.1\" 200 -\n",
      "127.0.0.1 - - [31/Jan/2022 10:22:26] \"POST /_dash-update-component HTTP/1.1\" 200 -\n",
      "127.0.0.1 - - [31/Jan/2022 10:36:06] \"POST /_dash-update-component HTTP/1.1\" 200 -\n",
      "127.0.0.1 - - [31/Jan/2022 10:36:09] \"POST /_dash-update-component HTTP/1.1\" 200 -\n"
     ]
    }
   ],
   "source": [
    "app.run_server(debug=False, port='8070')"
   ]
  },
  {
   "cell_type": "code",
   "execution_count": null,
   "id": "a9fb2b68-4518-4efe-8042-47650260b1b3",
   "metadata": {},
   "outputs": [],
   "source": []
  }
 ],
 "metadata": {
  "kernelspec": {
   "display_name": "Python 3 (ipykernel)",
   "language": "python",
   "name": "python3"
  },
  "language_info": {
   "codemirror_mode": {
    "name": "ipython",
    "version": 3
   },
   "file_extension": ".py",
   "mimetype": "text/x-python",
   "name": "python",
   "nbconvert_exporter": "python",
   "pygments_lexer": "ipython3",
   "version": "3.10.1"
  }
 },
 "nbformat": 4,
 "nbformat_minor": 5
}
